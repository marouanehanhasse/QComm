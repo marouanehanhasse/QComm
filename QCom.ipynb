{
 "cells": [
  {
   "cell_type": "code",
   "execution_count": 1,
   "id": "0861ba29",
   "metadata": {},
   "outputs": [
    {
     "data": {
      "text/plain": [
       "Main.QuantumRelay"
      ]
     },
     "execution_count": 1,
     "metadata": {},
     "output_type": "execute_result"
    }
   ],
   "source": [
    "module QuantumRelay\n",
    "\n",
    "using SymPy\n",
    "using JuMP\n",
    "using Clp\n",
    "using IterTools\n",
    "using LLLplus\n",
    "using GSL\n",
    "using Distributions\n",
    "using LinearAlgebra\n",
    "using SmithNormalForm\n",
    "using SpecialFunctions\n",
    "\n",
    "export\n",
    "\tqrelay_op,\n",
    "\top_mat,\n",
    "\tscan_maker,\n",
    "\tnonneg,\n",
    "\tQRelaySampler\n",
    "\n",
    "include(\"utility.jl\")\n",
    "include(\"operators.jl\")\n",
    "include(\"Clp.jl\")\n",
    "include(\"distributions.jl\")\n",
    "\n",
    "struct QRelaySampler\n",
    "\tprob::Function #return the probablility\n",
    "\tpsetproposal::Function #return next combination of sample\n",
    "\n",
    "    #input parameters:\n",
    "    #mat: the matrix p_ij in the note (10)\n",
    "    #coef: the coefficient c in the note (10)\n",
    "    #omega: the coefficient A in the note (10)\n",
    "    #pdet0: the probability of detection for each detector\n",
    "\tfunction QRelaySampler(mat::Array{T, 2}, coef, omega, pdet0) where T <: Int\n",
    "\t\tF=smith(mat)\n",
    "\t\tU=F.S\n",
    "\t\tV=F.T\n",
    "\t\tS=diagm(F)\n",
    "        #the SmithNormalForm returns P=USV. Inverse the matrices so Ui/Vi is the same as U/V in the note (18)\n",
    "\t\tUi = inv(U) \n",
    "\t\tVi = inv(V)\n",
    "\t\ts = diag(S)\n",
    "\t\tr = count(!iszero, s)\n",
    "\t\ts0 = s[1:r]\n",
    "\t\t@assert s0 == ones(r)\n",
    "\t\tui1 = Ui[1:r, :]\n",
    "\t\tui2 = Ui[r+1:end, :]\n",
    "\t\tvi1 = Vi[:, 1:r]\n",
    "\t\tvi2 = Vi[:, r+1:end]\n",
    "\t\tvi2 = lll(vi2)[1] #Lenstra–Lenstra–Lovász lattice basis reduction\n",
    "\t\tT0 = vi1*ui1\n",
    "\t\tui2oc = orthocomp(ui2) #orhogonal complements\n",
    "\t\tsetc, scan = scan_maker(vi2) #make the scanner for the algorithm1 in the note\n",
    "        \n",
    "        #compute the probability for an ideal system\n",
    "        #na: the photon numbers in a output mode\n",
    "\t\tfunction prob(na)\n",
    "\t\t    @assert count(!iszero, ui2*na) == 0\n",
    "\t\t    b = T0*na\n",
    "\t\t    setc(-b)\n",
    "\t\t    total = 0.0\n",
    "\t\t    for x in Channel(scan)\n",
    "\t\t        nab = vi2*x + b #the photon numbers for each item in the sum in the note (10)\n",
    "\t\t        total += prod([c.^complex(n)/gamma(n+1) for (c, n) in zip(coef, nab)])\n",
    "\t\t    end\n",
    "\t\t    return abs2(total*omega)\n",
    "\t\tend\n",
    "\n",
    "        #compute the probability of detection\n",
    "        #q: the number of photons detectors report\n",
    "        #na: the number of photons arrived at detector\n",
    "        #mask: if there is no detector in this channel, mask=0\n",
    "\t\tfunction prob(q, na, mask)\n",
    "\t\t    q0 = round.(Int, q.>0)\n",
    "\t\t    m0 = round.(Int, mask)\n",
    "\t\t    return prod((q0 + (ones(length(q0))-2q0).*pdet0(na)).^m0)\n",
    "\t\tend\n",
    "\n",
    "\t\tpsetproposal(x::Vector) = QuantumRelay.OrthoNNDist(x, ui2oc)\n",
    "\n",
    "\t\tnew(prob, psetproposal)\n",
    "\n",
    "\tend\n",
    "end\n",
    "end"
   ]
  },
  {
   "cell_type": "code",
   "execution_count": 2,
   "id": "ce8402f2",
   "metadata": {},
   "outputs": [
    {
     "data": {
      "text/plain": [
       "quantumrelay (generic function with 1 method)"
      ]
     },
     "execution_count": 2,
     "metadata": {},
     "output_type": "execute_result"
    }
   ],
   "source": [
    "using Plots\n",
    "using Random\n",
    "using SymPy\n",
    "using CSV\n",
    "using DataFrames\n",
    "using Main.QuantumRelay\n",
    "using Distributions\n",
    "\n",
    "#calling the github code \n",
    "function quantumrelay(alpha,delta,name::String,n)   #n is the number of sources for 1 relay we have 2 sources\n",
    "   \n",
    "    chi = fill(sqrt(0.06), n)                  # the parameter chi \n",
    "    phi = im*tanh.(chi)\n",
    "    omega = -log(prod(cosh.(chi)))\n",
    "    syms, op = qrelay_op(n, phi, alpha, delta)\n",
    "    op_a, op_ab, mat, coef = op_mat(op)\n",
    "\n",
    "    op_q2 = [syms.apH[1], syms.apV[1], syms.bpH[end], syms.bpV[end]]\n",
    "    op_q1 = [syms.apH[2:end]..., syms.apV[2:end]..., syms.bpH[1:end-1]..., syms.bpV[1:end-1]...]\n",
    "    mask_q1 = [op in op_q1 for op in op_a];\n",
    "    \n",
    "    mask_q2 = [op in op_q2 for op in op_a];\n",
    "    qq = [x in syms.apH || x in syms.bpV ? 1 : 0 for x in op_a]\n",
    "           \n",
    "    pdet0 = pdet_maker(0.04, 3e-5)\n",
    "    qrs = QRelaySampler(mat, coef, omega, pdet0)\n",
    "    targetcache=Dict{Vector{Int}, Float64}()\n",
    "    target(x::Vector)= (qrs.prob(qq, x, mask_q1) * qrs.prob(x))      #the target function of MCMC\n",
    "    Iteration=2^17\n",
    "    burnin=2^10\n",
    "    samples=Iteration+burnin\n",
    "    step=5\n",
    "    save_iter=burnin:samples\n",
    "    dist= qrs.psetproposal           #the proposal distribution\n",
    "    selected=Array[]\n",
    "    Q = Float64[]\n",
    "    \n",
    "    current_x = zeros(8)\n",
    "    @time for i in 2:samples            #from this line the MCMC algorithm starts\n",
    "        \n",
    "        proposed_x= rand(dist(current_x))\n",
    "        \n",
    "        prop_proposed= pdf(dist(current_x), proposed_x)\n",
    "        \n",
    "        prop_current= pdf(dist(proposed_x), current_x)\n",
    "        \n",
    "        \n",
    "        A= min(1,(target(proposed_x)*prop_current)/(target(current_x)*prop_proposed))\n",
    "        \n",
    "        \n",
    "        if rand() < A\n",
    "            #if i in save_iter\n",
    "                \n",
    "                \n",
    "            push!(selected, proposed_x)\n",
    "            push!(Q, qrs.prob(qq, proposed_x, mask_q2))\n",
    "            \n",
    "            #end\n",
    "    \n",
    "            current_x = proposed_x\n",
    "        else\n",
    "            current_x= current_x\n",
    "        end        \n",
    "    \n",
    "        \n",
    "    end\n",
    "    \n",
    "    return selected, Q\n",
    "end"
   ]
  },
  {
   "cell_type": "code",
   "execution_count": 3,
   "id": "6cd18fd9",
   "metadata": {},
   "outputs": [
    {
     "name": "stdout",
     "output_type": "stream",
     "text": [
      "2479.428721 seconds (738.27 M allocations: 57.862 GiB, 0.54% gc time, 0.32% compilation time)\n",
      "beta:0.0\n"
     ]
    },
    {
     "ename": "LoadError",
     "evalue": "TaskFailedException\n\n\u001b[91m    nested task error: \u001b[39mAssertionError: MOI.get(m, MOI.TerminationStatus()) == MOI.OPTIMAL || MOI.get(m, MOI.TerminationStatus()) == MOI.DUAL_INFEASIBLE\n    Stacktrace:\n     [1] \u001b[0m\u001b[1m(::Main.QuantumRelay.var\"#scan#6\"{Vector{JuMP.VariableRef}, Vector{Int64}, Vector{Int64}, Vector{Int64}, Int64, JuMP.Model})\u001b[22m\u001b[0m\u001b[1m(\u001b[22m\u001b[90mc\u001b[39m::\u001b[0mChannel\u001b[90m{Any}\u001b[39m\u001b[0m\u001b[1m)\u001b[22m\n    \u001b[90m   @ \u001b[39m\u001b[35mMain.QuantumRelay\u001b[39m \u001b[90m~/Downloads/\u001b[39m\u001b[90m\u001b[4mClp.jl:34\u001b[24m\u001b[39m\n     [2] \u001b[0m\u001b[1m(::Base.var\"#560#561\"{Main.QuantumRelay.var\"#scan#6\"{Vector{JuMP.VariableRef}, Vector{Int64}, Vector{Int64}, Vector{Int64}, Int64, JuMP.Model}, Channel{Any}})\u001b[22m\u001b[0m\u001b[1m(\u001b[22m\u001b[0m\u001b[1m)\u001b[22m\n    \u001b[90m   @ \u001b[39m\u001b[90mBase\u001b[39m \u001b[90m./\u001b[39m\u001b[90m\u001b[4mchannels.jl:132\u001b[24m\u001b[39m",
     "output_type": "error",
     "traceback": [
      "TaskFailedException\n\n\u001b[91m    nested task error: \u001b[39mAssertionError: MOI.get(m, MOI.TerminationStatus()) == MOI.OPTIMAL || MOI.get(m, MOI.TerminationStatus()) == MOI.DUAL_INFEASIBLE\n    Stacktrace:\n     [1] \u001b[0m\u001b[1m(::Main.QuantumRelay.var\"#scan#6\"{Vector{JuMP.VariableRef}, Vector{Int64}, Vector{Int64}, Vector{Int64}, Int64, JuMP.Model})\u001b[22m\u001b[0m\u001b[1m(\u001b[22m\u001b[90mc\u001b[39m::\u001b[0mChannel\u001b[90m{Any}\u001b[39m\u001b[0m\u001b[1m)\u001b[22m\n    \u001b[90m   @ \u001b[39m\u001b[35mMain.QuantumRelay\u001b[39m \u001b[90m~/Downloads/\u001b[39m\u001b[90m\u001b[4mClp.jl:34\u001b[24m\u001b[39m\n     [2] \u001b[0m\u001b[1m(::Base.var\"#560#561\"{Main.QuantumRelay.var\"#scan#6\"{Vector{JuMP.VariableRef}, Vector{Int64}, Vector{Int64}, Vector{Int64}, Int64, JuMP.Model}, Channel{Any}})\u001b[22m\u001b[0m\u001b[1m(\u001b[22m\u001b[0m\u001b[1m)\u001b[22m\n    \u001b[90m   @ \u001b[39m\u001b[90mBase\u001b[39m \u001b[90m./\u001b[39m\u001b[90m\u001b[4mchannels.jl:132\u001b[24m\u001b[39m",
      "",
      "Stacktrace:",
      "  [1] try_yieldto(undo::typeof(Base.ensure_rescheduled))",
      "    @ Base ./task.jl:777",
      "  [2] wait()",
      "    @ Base ./task.jl:837",
      "  [3] wait(c::Base.GenericCondition{ReentrantLock})",
      "    @ Base ./condition.jl:123",
      "  [4] take_unbuffered(c::Channel{Any})",
      "    @ Base ./channels.jl:405",
      "  [5] take!",
      "    @ ./channels.jl:383 [inlined]",
      "  [6] iterate(c::Channel{Any}, state::Nothing)",
      "    @ Base ./channels.jl:466",
      "  [7] iterate",
      "    @ ./channels.jl:465 [inlined]",
      "  [8] (::Main.QuantumRelay.var\"#prob#8\"{Vector{Complex}, Float64, Main.QuantumRelay.var\"#scan#6\"{Vector{JuMP.VariableRef}, Vector{Int64}, Vector{Int64}, Vector{Int64}, Int64, JuMP.Model}, Main.QuantumRelay.var\"#setc#5\"{Vector{JuMP.ConstraintRef{JuMP.Model, MathOptInterface.ConstraintIndex{MathOptInterface.ScalarAffineFunction{Float64}, MathOptInterface.GreaterThan{Float64}}, JuMP.ScalarShape}}}, Matrix{Float64}, Matrix{Float64}, Main.QuantumRelay.var\"#pdet0#2\"{Float64, Float64}})(na::Vector{Float64})",
      "    @ Main.QuantumRelay ./In[1]:63",
      "  [9] (::var\"#target#7\"{QRelaySampler, Vector{Int64}, Vector{Bool}})(x::Vector{Float64})",
      "    @ Main ./In[2]:28",
      " [10] macro expansion",
      "    @ ./In[2]:48 [inlined]",
      " [11] macro expansion",
      "    @ ./timing.jl:220 [inlined]",
      " [12] quantumrelay(alpha::Float64, delta::Float64, name::String, n::Int64)",
      "    @ Main ./In[2]:39",
      " [13] top-level scope",
      "    @ ./In[3]:6",
      " [14] eval",
      "    @ ./boot.jl:373 [inlined]",
      " [15] include_string(mapexpr::typeof(REPL.softscope), mod::Module, code::String, filename::String)",
      "    @ Base ./loading.jl:1196"
     ]
    }
   ],
   "source": [
    "prob=[]\n",
    "accepted=[]\n",
    "for i = 0:14\n",
    "    beta = i*pi/14\n",
    "    name = string(i)\n",
    "    selected, Q = quantumrelay(pi/4, beta, name,2)\n",
    "    push!(accepted,length(selected))\n",
    "    println(\"beta:\", beta)\n",
    "    push!(prob,Q)\n",
    "    df=DataFrame(selected=selected)\n",
    "\n",
    "end"
   ]
  },
  {
   "cell_type": "code",
   "execution_count": 5,
   "id": "5c231ec1",
   "metadata": {},
   "outputs": [
    {
     "ename": "LoadError",
     "evalue": "MethodError: no method matching factorial(::ComplexF64)\n\u001b[0mClosest candidates are:\n\u001b[0m  factorial(\u001b[91m::Union{Int64, UInt64}\u001b[39m) at /Applications/Julia-1.7.app/Contents/Resources/julia/share/julia/base/combinatorics.jl:27\n\u001b[0m  factorial(\u001b[91m::Union{Int16, Int32, Int8, UInt16, UInt32, UInt8}\u001b[39m) at /Applications/Julia-1.7.app/Contents/Resources/julia/share/julia/base/combinatorics.jl:33\n\u001b[0m  factorial(\u001b[91m::SymPy.SymbolicObject\u001b[39m, \u001b[91m::Any...\u001b[39m; kwargs...) at ~/.julia/packages/SymPy/5GXQf/src/importexport.jl:42\n\u001b[0m  ...",
     "output_type": "error",
     "traceback": [
      "MethodError: no method matching factorial(::ComplexF64)\n\u001b[0mClosest candidates are:\n\u001b[0m  factorial(\u001b[91m::Union{Int64, UInt64}\u001b[39m) at /Applications/Julia-1.7.app/Contents/Resources/julia/share/julia/base/combinatorics.jl:27\n\u001b[0m  factorial(\u001b[91m::Union{Int16, Int32, Int8, UInt16, UInt32, UInt8}\u001b[39m) at /Applications/Julia-1.7.app/Contents/Resources/julia/share/julia/base/combinatorics.jl:33\n\u001b[0m  factorial(\u001b[91m::SymPy.SymbolicObject\u001b[39m, \u001b[91m::Any...\u001b[39m; kwargs...) at ~/.julia/packages/SymPy/5GXQf/src/importexport.jl:42\n\u001b[0m  ...",
      "",
      "Stacktrace:",
      " [1] top-level scope",
      "   @ In[5]:2",
      " [2] eval",
      "   @ ./boot.jl:373 [inlined]",
      " [3] include_string(mapexpr::typeof(REPL.softscope), mod::Module, code::String, filename::String)",
      "   @ Base ./loading.jl:1196"
     ]
    }
   ],
   "source": [
    "x=0.0 + 0.12008239133631671im\n",
    "factorial(x)"
   ]
  },
  {
   "cell_type": "code",
   "execution_count": 8,
   "id": "b702667f",
   "metadata": {},
   "outputs": [
    {
     "ename": "LoadError",
     "evalue": "MethodError: no method matching factorial(::Float64)\n\u001b[0mClosest candidates are:\n\u001b[0m  factorial(\u001b[91m::Union{Int64, UInt64}\u001b[39m) at /Applications/Julia-1.7.app/Contents/Resources/julia/share/julia/base/combinatorics.jl:27\n\u001b[0m  factorial(\u001b[91m::Union{Int16, Int32, Int8, UInt16, UInt32, UInt8}\u001b[39m) at /Applications/Julia-1.7.app/Contents/Resources/julia/share/julia/base/combinatorics.jl:33\n\u001b[0m  factorial(\u001b[91m::SymPy.SymbolicObject\u001b[39m, \u001b[91m::Any...\u001b[39m; kwargs...) at ~/.julia/packages/SymPy/5GXQf/src/importexport.jl:42\n\u001b[0m  ...",
     "output_type": "error",
     "traceback": [
      "MethodError: no method matching factorial(::Float64)\n\u001b[0mClosest candidates are:\n\u001b[0m  factorial(\u001b[91m::Union{Int64, UInt64}\u001b[39m) at /Applications/Julia-1.7.app/Contents/Resources/julia/share/julia/base/combinatorics.jl:27\n\u001b[0m  factorial(\u001b[91m::Union{Int16, Int32, Int8, UInt16, UInt32, UInt8}\u001b[39m) at /Applications/Julia-1.7.app/Contents/Resources/julia/share/julia/base/combinatorics.jl:33\n\u001b[0m  factorial(\u001b[91m::SymPy.SymbolicObject\u001b[39m, \u001b[91m::Any...\u001b[39m; kwargs...) at ~/.julia/packages/SymPy/5GXQf/src/importexport.jl:42\n\u001b[0m  ...",
      "",
      "Stacktrace:",
      " [1] top-level scope",
      "   @ In[8]:1",
      " [2] eval",
      "   @ ./boot.jl:373 [inlined]",
      " [3] include_string(mapexpr::typeof(REPL.softscope), mod::Module, code::String, filename::String)",
      "   @ Base ./loading.jl:1196"
     ]
    }
   ],
   "source": [
    "factorial(0.000234)"
   ]
  },
  {
   "cell_type": "code",
   "execution_count": null,
   "id": "4457032e",
   "metadata": {},
   "outputs": [],
   "source": []
  }
 ],
 "metadata": {
  "kernelspec": {
   "display_name": "Julia 1.7.2",
   "language": "julia",
   "name": "julia-1.7"
  },
  "language_info": {
   "file_extension": ".jl",
   "mimetype": "application/julia",
   "name": "julia",
   "version": "1.7.2"
  }
 },
 "nbformat": 4,
 "nbformat_minor": 5
}
